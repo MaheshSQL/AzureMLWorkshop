{
 "cells": [
  {
   "cell_type": "markdown",
   "metadata": {},
   "source": [
    "Licensed under the MIT License.\n",
    "# Train ML models with Azure Machine Learning R SDK (Preview)"
   ]
  },
  {
   "cell_type": "markdown",
   "metadata": {},
   "source": [
    "Important: The Azure Machine Learning R SDK is currently in public preview. The preview version is provided without a service level agreement, and it's not recommended for production workloads. Certain features might not be supported or might have constrained capabilities."
   ]
  },
  {
   "cell_type": "markdown",
   "metadata": {},
   "source": [
    "In this lab you'll use the Azure Machine Learning R SDK (preview) to create a logistic regression model that predicts the likelihood of a fatality in a car accident. You'll see how the Azure Machine Learning cloud resources work with R to provide a scalable environment for training and deploying a model."
   ]
  },
  {
   "cell_type": "markdown",
   "metadata": {},
   "source": [
    "In this lab, you perform the following tasks:\n",
    "\n",
    "- Load data and prepare for training\n",
    "- Upload data to a datastore so it is available for remote training\n",
    "- Use compute resource to train the model remotely\n",
    "- Train a caret model to predict probability of fatality"
   ]
  },
  {
   "cell_type": "markdown",
   "metadata": {},
   "source": [
    "## Change notebook Kernel to R"
   ]
  },
  {
   "cell_type": "markdown",
   "metadata": {},
   "source": [
    "Kernel -> Change Kernel -> R\n"
   ]
  },
  {
   "cell_type": "markdown",
   "metadata": {},
   "source": [
    "## Install required packages"
   ]
  },
  {
   "cell_type": "markdown",
   "metadata": {},
   "source": [
    "The stable release of the Azure ML SDK can be installed from CRAN or the development version can \n",
    "be installed from GitHub. You will need \\*\\*remotes** to install the \\*\\*azuremlsdk** package."
   ]
  },
  {
   "cell_type": "markdown",
   "metadata": {},
   "source": [
    "`R code:`"
   ]
  },
  {
   "cell_type": "code",
   "execution_count": null,
   "metadata": {},
   "outputs": [],
   "source": [
    "install.packages('remotes')"
   ]
  },
  {
   "cell_type": "code",
   "execution_count": null,
   "metadata": {},
   "outputs": [],
   "source": [
    "#Use `install_cran` functions to install the package."
   ]
  },
  {
   "cell_type": "markdown",
   "metadata": {},
   "source": [
    "If you are using R installed from CRAN, which comes with 32-bit and 64-bit binaries, you may need to specify the parameter `INSTALL_opts=c(\"--no-multiarch\")` to only build for the current 64-bit architecture."
   ]
  },
  {
   "cell_type": "code",
   "execution_count": null,
   "metadata": {},
   "outputs": [],
   "source": [
    "remotes::install_cran('azuremlsdk', repos = 'https://cloud.r-project.org/', INSTALL_opts=c(\"--no-multiarch\"))"
   ]
  },
  {
   "cell_type": "markdown",
   "metadata": {},
   "source": [
    "Install the Azure ML Python SDK"
   ]
  },
  {
   "cell_type": "markdown",
   "metadata": {},
   "source": [
    "By default, `install_azureml()` creates a conda environment called 'r-reticulate', installs the Python SDK in that environment, and restarts the R session after installation (if running in RStudio)."
   ]
  },
  {
   "cell_type": "code",
   "execution_count": null,
   "metadata": {},
   "outputs": [],
   "source": [
    "azuremlsdk::install_azureml()"
   ]
  },
  {
   "cell_type": "markdown",
   "metadata": {},
   "source": [
    "Test installation: You can confirm your installation worked by loading the library and successfully retrieving a run."
   ]
  },
  {
   "cell_type": "code",
   "execution_count": null,
   "metadata": {},
   "outputs": [],
   "source": [
    "library(azuremlsdk)\n",
    "get_current_run()"
   ]
  },
  {
   "cell_type": "markdown",
   "metadata": {},
   "source": [
    "## Set the working directory"
   ]
  },
  {
   "cell_type": "code",
   "execution_count": null,
   "metadata": {},
   "outputs": [],
   "source": [
    "setwd(\"C:\\\\Azure ML Labs\\\\Lab-04\")"
   ]
  },
  {
   "cell_type": "markdown",
   "metadata": {},
   "source": [
    "## Load your workspace\n",
    "\n",
    "Instantiate a workspace object from your existing workspace. The following code will load the workspace details from the config.json file.\n",
    "<br><br>\n",
    "When you run the code to instantiate the workspace, pop-up will appear to login to Azure ML and get authenticated."
   ]
  },
  {
   "cell_type": "markdown",
   "metadata": {},
   "source": [
    "`R code:`"
   ]
  },
  {
   "cell_type": "code",
   "execution_count": null,
   "metadata": {},
   "outputs": [],
   "source": [
    "library(azuremlsdk)\n",
    "ws <- load_workspace_from_config()"
   ]
  },
  {
   "cell_type": "markdown",
   "metadata": {},
   "source": [
    "## Create an experiment\n",
    "An Azure ML experiment tracks a grouping of runs, typically from the same training script. Create an experiment to track the runs for training the caret model on the accidents data."
   ]
  },
  {
   "cell_type": "markdown",
   "metadata": {},
   "source": [
    "`R code:`"
   ]
  },
  {
   "cell_type": "code",
   "execution_count": null,
   "metadata": {},
   "outputs": [],
   "source": [
    "experiment_name <- \"Lab-04-accident-logreg\"\n",
    "exp <- experiment(ws, experiment_name)"
   ]
  },
  {
   "cell_type": "markdown",
   "metadata": {},
   "source": [
    "## Prepare data for training"
   ]
  },
  {
   "cell_type": "markdown",
   "metadata": {},
   "source": [
    "`R code:`\n",
    "\n",
    "Please change the path in setwd() to appropriate value."
   ]
  },
  {
   "cell_type": "code",
   "execution_count": null,
   "metadata": {},
   "outputs": [],
   "source": [
    "setwd(\"C:\\\\Azure ML Labs\\\\Datasets\")\n",
    "\n",
    "nassCDS <- read.csv(\"nassCDS.csv\", \n",
    "                     colClasses=c(\"factor\",\"numeric\",\"factor\",\n",
    "                                  \"factor\",\"factor\",\"numeric\",\n",
    "                                  \"factor\",\"numeric\",\"numeric\",\n",
    "                                  \"numeric\",\"character\",\"character\",\n",
    "                                  \"numeric\",\"numeric\",\"character\"))\n",
    "accidents <- na.omit(nassCDS[,c(\"dead\",\"dvcat\",\"seatbelt\",\"frontal\",\"sex\",\"ageOFocc\",\"yearVeh\",\"airbag\",\"occRole\")])\n",
    "accidents$frontal <- factor(accidents$frontal, labels=c(\"notfrontal\",\"frontal\"))\n",
    "accidents$occRole <- factor(accidents$occRole)\n",
    "accidents$dvcat <- ordered(accidents$dvcat, \n",
    "                          levels=c(\"1-9km/h\",\"10-24\",\"25-39\",\"40-54\",\"55+\"))\n",
    "\n",
    "saveRDS(accidents, file=\"accidents.Rd\")"
   ]
  },
  {
   "cell_type": "markdown",
   "metadata": {},
   "source": [
    "## Upload data to the datastore"
   ]
  },
  {
   "cell_type": "markdown",
   "metadata": {},
   "source": [
    "`R code:`\n",
    "\n",
    "Please change the path to appropriate value."
   ]
  },
  {
   "cell_type": "code",
   "execution_count": null,
   "metadata": {},
   "outputs": [],
   "source": [
    "ds <- get_default_datastore(ws)\n",
    "\n",
    "target_path <- \"accidentdata\"\n",
    "upload_files_to_datastore(ds,\n",
    "                          list(\"./accidents.Rd\"),\n",
    "                          target_path = target_path,\n",
    "                          overwrite = TRUE)\n",
    "                          \n",
    "setwd(\"C:\\\\Azure ML Labs\\\\Lab-04\")"
   ]
  },
  {
   "cell_type": "markdown",
   "metadata": {},
   "source": [
    "## Train a model\n",
    "\n",
    "For lab, fit a logistic regression model on your uploaded data using your remote compute cluster. To submit a job, you need to:\n",
    "\n",
    "- Prepare the training script\n",
    "- Create an estimator\n",
    "- Submit the job"
   ]
  },
  {
   "cell_type": "markdown",
   "metadata": {},
   "source": [
    "## Prepare the training script"
   ]
  },
  {
   "cell_type": "markdown",
   "metadata": {},
   "source": [
    "Save code from below cell into a new  script file with name <b>accidents_train.r</b> and save it within the Lab-04 directory."
   ]
  },
  {
   "cell_type": "markdown",
   "metadata": {},
   "source": [
    "Notice the following details inside the training script that have been done to leverage Azure Machine Learning for training:\n",
    "\n",
    "- The training script takes an argument -d to find the directory that contains the training data. When you define and submit your job later, you point to the datastore for this argument. Azure ML will mount the storage folder to the remote cluster for the training job.\n",
    "<br><br>\n",
    "- The training script logs the final accuracy as a metric to the run record in Azure ML using log_metric_to_run(). The Azure ML SDK provides a set of logging APIs for logging various metrics during training runs. These metrics are recorded and persisted in the experiment run record. The metrics can then be accessed at any time or viewed in the run details page in studio. See the reference for the full set of logging methods log_*().\n",
    "<br><br>\n",
    "- The training script saves your model into a directory named outputs. The ./outputs folder receives special treatment by Azure ML. During training, files written to ./outputs are automatically uploaded to your run record by Azure ML and persisted as artifacts. By saving the trained model to ./outputs, you'll be able to access and retrieve your model file even after the run is over and you no longer have access to your remote training environment.\n",
    "<br>"
   ]
  },
  {
   "cell_type": "markdown",
   "metadata": {},
   "source": [
    "`R code:`"
   ]
  },
  {
   "cell_type": "raw",
   "metadata": {},
   "source": [
    "#' Copyright(c) Microsoft Corporation.\n",
    "#' Licensed under the MIT license.\n",
    "\n",
    "library(azuremlsdk)\n",
    "library(optparse)\n",
    "\n",
    "options <- list(\n",
    "  make_option(c(\"-d\", \"--data_folder\"))\n",
    ")\n",
    "\n",
    "opt_parser <- OptionParser(option_list = options)\n",
    "opt <- parse_args(opt_parser)\n",
    "\n",
    "paste(opt$data_folder)\n",
    "\n",
    "accidents <- readRDS(file.path(opt$data_folder, \"accidents.Rd\"))\n",
    "summary(accidents)\n",
    "\n",
    "mod <- glm(dead ~ dvcat + seatbelt + frontal + sex + ageOFocc + yearVeh + airbag  + occRole, family=binomial, data=accidents)\n",
    "summary(mod)\n",
    "predictions <- factor(ifelse(predict(mod)>0.1, \"dead\",\"alive\"))\n",
    "accuracy <- mean(predictions == accidents$dead)\n",
    "log_metric_to_run(\"Accuracy\", accuracy)\n",
    "\n",
    "output_dir = \"outputs\"\n",
    "if (!dir.exists(output_dir)){\n",
    "  dir.create(output_dir)\n",
    "}\n",
    "saveRDS(mod, file = \"./outputs/model.rds\")\n",
    "message(\"Model saved\")"
   ]
  },
  {
   "cell_type": "markdown",
   "metadata": {},
   "source": [
    "## Retrieve the existing compute target\n",
    "Compute cluster is already provisioned to be used in all labs. Update the value of cluster_name in code below.\n"
   ]
  },
  {
   "cell_type": "markdown",
   "metadata": {},
   "source": [
    "`R code:`"
   ]
  },
  {
   "cell_type": "code",
   "execution_count": null,
   "metadata": {},
   "outputs": [],
   "source": [
    "compute_target <- get_compute(ws, cluster_name = 'CPU-Cluster-XX')"
   ]
  },
  {
   "cell_type": "markdown",
   "metadata": {},
   "source": [
    "## Create environment"
   ]
  },
  {
   "cell_type": "markdown",
   "metadata": {},
   "source": [
    "`R code:`"
   ]
  },
  {
   "cell_type": "code",
   "execution_count": null,
   "metadata": {},
   "outputs": [],
   "source": [
    "r_env  <- r_environment(name = 'myr_env',cran_packages = list(cran_package(\"caret\"),cran_package(\"e1071\"),cran_package(\"optparse\")))"
   ]
  },
  {
   "cell_type": "markdown",
   "metadata": {},
   "source": [
    "## Create an estimator\n",
    "An Azure ML estimator encapsulates the run configuration information needed for executing a training script on the compute target. Azure ML runs are run as containerized jobs on the specified compute target. By default, the Docker image built for your training job will include R, the Azure ML SDK, and a set of commonly used R packages. See the full list of default packages included here.\n",
    "\n",
    "To create the estimator, define:\n",
    "\n",
    "- The directory that contains your scripts needed for training (source_directory). All the files in this directory are uploaded to the cluster node(s) for execution. The directory must contain your training script and any additional scripts required.\n",
    "<br><br>\n",
    "- The training script that will be executed (entry_script).\n",
    "<br><br>\n",
    "- The compute target (compute_target), in this case the AmlCompute cluster you created earlier.\n",
    "<br><br>\n",
    "- The parameters required from the training script (script_params). Azure ML will run your training script as a command-line script with Rscript. In this tutorial you specify one argument to the script, the data directory mounting point, which you can access with ds$path(target_path).\n",
    "<br><br>\n",
    "- If you are using R packages that are not included by default, use the estimator's cran_packages parameter to add additional CRAN packages\n",
    "<br>"
   ]
  },
  {
   "cell_type": "markdown",
   "metadata": {},
   "source": [
    "`R code:`"
   ]
  },
  {
   "cell_type": "code",
   "execution_count": null,
   "metadata": {},
   "outputs": [],
   "source": [
    "est <- estimator(source_directory = \".\",\n",
    "                 entry_script = \"accidents_train.r\",\n",
    "                 script_params = list(\"--data_folder\" = ds$path(target_path)),\n",
    "                 compute_target = compute_target,\n",
    "                 environment =r_env                 \n",
    "                 )"
   ]
  },
  {
   "cell_type": "markdown",
   "metadata": {},
   "source": [
    "## Submit the job on the remote cluster\n",
    "\n",
    "Finally submit the job to run on your cluster. submit_experiment() returns a Run object that you then use to interface with the run. In total, the first run takes about 10 minutes. But for later runs, the same Docker image is reused as long as the script dependencies don't change. In this case, the image is cached and the container startup time is much faster."
   ]
  },
  {
   "cell_type": "markdown",
   "metadata": {},
   "source": [
    "`R code:`"
   ]
  },
  {
   "cell_type": "code",
   "execution_count": null,
   "metadata": {},
   "outputs": [],
   "source": [
    "run <- submit_experiment(exp, est)"
   ]
  },
  {
   "cell_type": "markdown",
   "metadata": {},
   "source": [
    "You can view the run's details in RStudio Viewer. Clicking the \"Web View\" link provided will bring you to Azure Machine Learning studio, where you can monitor the run in the UI.\n",
    "<br><br>\n",
    "After you submit the experiment, you can view the preparation log by logging into https://ml.azure.com, click Experiments, Lab-04-accident-logreg, click the latest run with status preparing), Output + logs, azureml-logs -> XX_image_build_log.txt"
   ]
  },
  {
   "cell_type": "code",
   "execution_count": null,
   "metadata": {},
   "outputs": [],
   "source": [
    "get_run_details(run)"
   ]
  },
  {
   "cell_type": "markdown",
   "metadata": {},
   "source": [
    "<b>Note:</b> Model training happens in the background. Wait until the model has finished training before you run more code. "
   ]
  },
  {
   "cell_type": "markdown",
   "metadata": {},
   "source": [
    "You and colleagues with access to the workspace can submit multiple experiments in parallel, and Azure ML will take of scheduling the tasks on the compute cluster. You can even configure the cluster to automatically scale up to multiple nodes, and scale back when there are no more compute tasks in the queue. This configuration is a cost-effective way for teams to share compute resources."
   ]
  },
  {
   "cell_type": "markdown",
   "metadata": {},
   "source": [
    "## Get the logged metrics\n",
    "Once your model has finished training, you can access the artifacts of your job that were persisted to the run record, including any metrics logged and the final trained model."
   ]
  },
  {
   "cell_type": "markdown",
   "metadata": {},
   "source": [
    "In the training script accidents.R, you logged a metric from your model: the accuracy of the predictions in the training data. You can see metrics in the studio, or extract them to the local session as an R list as follows:"
   ]
  },
  {
   "cell_type": "markdown",
   "metadata": {},
   "source": [
    "`R code:`"
   ]
  },
  {
   "cell_type": "code",
   "execution_count": null,
   "metadata": {},
   "outputs": [],
   "source": [
    "metrics <- get_run_metrics(run)\n",
    "metrics"
   ]
  },
  {
   "cell_type": "markdown",
   "metadata": {},
   "source": [
    "If you have run multiple experiments (say, using differing variables, algorithms, or hyperparamers), you can use the metrics from each run to compare and choose the model you'll use in production."
   ]
  },
  {
   "cell_type": "markdown",
   "metadata": {},
   "source": [
    "## Get the trained model"
   ]
  },
  {
   "cell_type": "markdown",
   "metadata": {},
   "source": [
    "You can retrieve the trained model and look at the results in your local R session. The following code will download the contents of the ./outputs directory, which includes the model file."
   ]
  },
  {
   "cell_type": "markdown",
   "metadata": {},
   "source": [
    "`R code:`"
   ]
  },
  {
   "cell_type": "code",
   "execution_count": null,
   "metadata": {},
   "outputs": [],
   "source": [
    "download_files_from_run(run, prefix=\"outputs/\")\n",
    "accident_model <- readRDS(\"outputs/model.rds\")\n",
    "summary(accident_model)"
   ]
  },
  {
   "cell_type": "markdown",
   "metadata": {},
   "source": [
    "You see some factors that contribute to an increase in the estimated probability of death:\n",
    "\n",
    "- higher impact speed\n",
    "- male driver\n",
    "- older occupant\n",
    "- passenger\n",
    "<br>\n",
    "\n",
    "You see lower probabilities of death with:\n",
    "- presence of airbags\n",
    "- presence seatbelts\n",
    "- frontal collision\n",
    "- The vehicle year of manufacture does not have a significant effect."
   ]
  },
  {
   "cell_type": "markdown",
   "metadata": {},
   "source": [
    "You can use this model to make new predictions:"
   ]
  },
  {
   "cell_type": "markdown",
   "metadata": {},
   "source": [
    "`R code:`"
   ]
  },
  {
   "cell_type": "code",
   "execution_count": null,
   "metadata": {},
   "outputs": [],
   "source": [
    "newdata <- data.frame( # valid values shown below\n",
    " dvcat=\"10-24\",        # \"1-9km/h\" \"10-24\"   \"25-39\"   \"40-54\"   \"55+\"  \n",
    " seatbelt=\"none\",      # \"none\"   \"belted\"  \n",
    " frontal=\"frontal\",    # \"notfrontal\" \"frontal\"\n",
    " sex=\"f\",              # \"f\" \"m\"\n",
    " ageOFocc=16,          # age in years, 16-97\n",
    " yearVeh=2002,         # year of vehicle, 1955-2003\n",
    " airbag=\"none\",        # \"none\"   \"airbag\"   \n",
    " occRole=\"pass\"        # \"driver\" \"pass\"\n",
    " )\n",
    "\n",
    "## predicted probability of death for these variables, as a percentage\n",
    "as.numeric(predict(accident_model,newdata, type=\"response\")*100)"
   ]
  },
  {
   "cell_type": "markdown",
   "metadata": {},
   "source": [
    "### --- End ---"
   ]
  },
  {
   "cell_type": "code",
   "execution_count": 7,
   "metadata": {},
   "outputs": [
    {
     "data": {
      "text/html": [
       "<style>.container { width:80% !important; }</style>"
      ],
      "text/plain": [
       "<IPython.core.display.HTML object>"
      ]
     },
     "metadata": {},
     "output_type": "display_data"
    }
   ],
   "source": [
    "#Increase width\n",
    "from IPython.core.display import display, HTML\n",
    "display(HTML(\"<style>.container { width:80% !important; }</style>\"))"
   ]
  }
 ],
 "metadata": {
  "kernelspec": {
   "display_name": "R",
   "language": "R",
   "name": "ir"
  },
  "language_info": {
   "codemirror_mode": "r",
   "file_extension": ".r",
   "mimetype": "text/x-r-source",
   "name": "R",
   "pygments_lexer": "r",
   "version": "4.0.2"
  }
 },
 "nbformat": 4,
 "nbformat_minor": 4
}
