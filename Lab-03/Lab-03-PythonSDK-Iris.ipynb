{
 "cells": [
  {
   "cell_type": "markdown",
   "metadata": {},
   "source": [
    "Licensed under the MIT License.\n",
    "# Train scikit-learn models with Azure Machine Learning Python SDK\n",
    "\n",
    "<b>Note:</b>\n",
    "\n",
    "Select Kernel = Python 3.6 - Azure ML when prompted."
   ]
  },
  {
   "cell_type": "markdown",
   "metadata": {},
   "source": [
    "In this article, learn how to run your scikit-learn training scripts with Azure Machine Learning.\n",
    "\n",
    "The example scripts in this article are used to classify iris flower images to build a machine learning model based on scikit-learn's iris dataset(https://archive.ics.uci.edu/ml/datasets/iris)\n",
    "\n",
    "Whether you're training a machine learning scikit-learn model from the ground-up or you're bringing an existing model into the cloud, you can use Azure Machine Learning to scale out open-source training jobs using elastic cloud compute resources. You can build, deploy, version, and monitor production-grade models with Azure Machine Learning."
   ]
  },
  {
   "cell_type": "markdown",
   "metadata": {},
   "source": [
    "## Create Workspace Config File\n",
    "\n",
    "Note: Skip this section if using Compute Instance. Go to <b>Initalise a workspace</b>."
   ]
  },
  {
   "cell_type": "markdown",
   "metadata": {},
   "source": [
    "The workspace configuration file is a JSON file that tells the SDK how to communicate with your Azure Machine Learning workspace. \n",
    "The file is named config.json, and it has the following format:"
   ]
  },
  {
   "cell_type": "markdown",
   "metadata": {},
   "source": [
    "![workspace-config-image](.././Images/3.png \"workspace-config\")"
   ]
  },
  {
   "cell_type": "markdown",
   "metadata": {},
   "source": [
    "You can create a config.json file manually with the above format or can directly download the file from Machine Learning workspace as shown below: \n",
    "<br><br>\n",
    "Enter https://portal.azure.com in web browser and sign in.\n",
    "<br><br>\n",
    "Click Resource groups -> rg-user-XX -> aml-workspace-XX\n",
    "<br><br>\n",
    "Click Download config.json"
   ]
  },
  {
   "cell_type": "markdown",
   "metadata": {},
   "source": [
    "![workspace-config-download-image](.././Images/4.png \"workspace-config-download\")"
   ]
  },
  {
   "cell_type": "markdown",
   "metadata": {},
   "source": [
    "Save the config.json file within the Azure ML Labs directory."
   ]
  },
  {
   "cell_type": "markdown",
   "metadata": {},
   "source": [
    "![workspace-config-save-image](.././Images/5.png \"workspace-config-save\")"
   ]
  },
  {
   "cell_type": "markdown",
   "metadata": {},
   "source": [
    "Note: Please skip this step if already done."
   ]
  },
  {
   "cell_type": "markdown",
   "metadata": {},
   "source": [
    "## Initialize a workspace"
   ]
  },
  {
   "cell_type": "markdown",
   "metadata": {},
   "source": [
    "Note: Ensure that Microsoft Edge was selected as the default browser before running cell below."
   ]
  },
  {
   "cell_type": "code",
   "execution_count": null,
   "metadata": {},
   "outputs": [],
   "source": [
    "from azureml.core import Workspace\n",
    "\n",
    "ws = Workspace.from_config()"
   ]
  },
  {
   "cell_type": "markdown",
   "metadata": {},
   "source": [
    "Note: This code snippet expects the workspace configuration to be saved in the current directory or its parent."
   ]
  },
  {
   "cell_type": "markdown",
   "metadata": {},
   "source": [
    "You will get pop-up to sign into Azure ML Service. Enter your credentials and you will see message below. Close the browser and return to Jupyter notebook for Lab-03"
   ]
  },
  {
   "cell_type": "markdown",
   "metadata": {},
   "source": [
    "![login-image](.././Images/15.png \"Login\")"
   ]
  },
  {
   "cell_type": "markdown",
   "metadata": {},
   "source": [
    "## Define custom environment - Create YAML file"
   ]
  },
  {
   "cell_type": "markdown",
   "metadata": {},
   "source": [
    "Define conda dependencies in a YAML file, save this file with name conda_dependencies.yml within Lab-03 directory.\n",
    "\n",
    "Note: Please use VSCode editor to create the YAML file."
   ]
  },
  {
   "cell_type": "markdown",
   "metadata": {},
   "source": [
    "![conda-yaml-image](.././Images/6.png \"conda-yaml\")"
   ]
  },
  {
   "cell_type": "markdown",
   "metadata": {},
   "source": [
    "## Create custom environment"
   ]
  },
  {
   "cell_type": "code",
   "execution_count": null,
   "metadata": {},
   "outputs": [],
   "source": [
    "from azureml.core import Environment\n",
    "\n",
    "sklearn_env = Environment.from_conda_specification(name='sklearn-env', file_path='.\\conda_dependencies.yml')"
   ]
  },
  {
   "cell_type": "markdown",
   "metadata": {},
   "source": [
    "## Prepare training script"
   ]
  },
  {
   "cell_type": "markdown",
   "metadata": {},
   "source": [
    "1. Review train_iris.py training script file using Visual Studio Code."
   ]
  },
  {
   "cell_type": "markdown",
   "metadata": {},
   "source": [
    "2. Complete the missing bits in the training code.\n",
    "\n",
    "Note: The incomplete script will result in experiment run to fail."
   ]
  },
  {
   "cell_type": "markdown",
   "metadata": {},
   "source": [
    "## Create a ScriptRunConfig"
   ]
  },
  {
   "cell_type": "markdown",
   "metadata": {},
   "source": [
    "Create a ScriptRunConfig object to specify the configuration details of your training job, including your training script, environment to use, and the compute target to run on. Any arguments to your training script will be passed via command line if specified in the arguments parameter."
   ]
  },
  {
   "cell_type": "markdown",
   "metadata": {},
   "source": [
    "Replace my-cluster-name with the name of compute cluster."
   ]
  },
  {
   "cell_type": "code",
   "execution_count": null,
   "metadata": {},
   "outputs": [],
   "source": [
    "from azureml.core import ScriptRunConfig\n",
    "\n",
    "compute_target = ws.compute_targets['<my-cluster-name>']   #Replace <my-cluster-name> with actual AML Cluster name from your Compute list.\n",
    "src = ScriptRunConfig(source_directory='.',\n",
    "                      script='train_iris.py',\n",
    "                      arguments=['--kernel', 'linear', '--penalty', 1.0],\n",
    "                      compute_target=compute_target,\n",
    "                      environment=sklearn_env)"
   ]
  },
  {
   "cell_type": "markdown",
   "metadata": {},
   "source": [
    "## Submit Experiment Run"
   ]
  },
  {
   "cell_type": "markdown",
   "metadata": {},
   "source": [
    "As the run is executed, it goes through the following stages:\n",
    "\n",
    "- Preparing: A docker image is created according to the environment defined. The image is uploaded to the workspace's container registry and cached for later runs. Logs are also streamed to the run history and can be viewed to monitor progress. If a curated environment is specified instead, the cached image backing that curated environment will be used.\n",
    "\n",
    "- Scaling: The cluster attempts to scale up if the Batch AI cluster requires more nodes to execute the run than are currently available.\n",
    "\n",
    "- Running: All scripts in the script folder are uploaded to the compute target, data stores are mounted or copied, and the script is executed. Outputs from stdout and the ./logs folder are streamed to the run history and can be used to monitor the run.\n",
    "\n",
    "- Post-Processing: The ./outputs folder of the run is copied over to the run history."
   ]
  },
  {
   "cell_type": "code",
   "execution_count": null,
   "metadata": {},
   "outputs": [],
   "source": [
    "from azureml.core import Experiment\n",
    "\n",
    "run = Experiment(ws,'Lab-03-PythonSDK-Iris').submit(src)\n",
    "run.wait_for_completion(show_output=True)"
   ]
  },
  {
   "cell_type": "markdown",
   "metadata": {},
   "source": [
    "## Review the Experiment log in Azure ML Studio"
   ]
  },
  {
   "cell_type": "markdown",
   "metadata": {},
   "source": [
    "1. Open Azure ML Studio (https://ml.azure.com) and navigate to Experiments.\n",
    "2. Click on Lab-03-PythonSDK-Iris experiment to view the completed run.\n",
    "3. Select the latest run number\n",
    "4. Explore Outputs + logs (Trained model is saved with name model.joblib)\n",
    "5. Explore Snapshot. You will see the content of the Lab-03 directory. Click Lab-03-PythonSDK-Iris and review the code that was run."
   ]
  },
  {
   "cell_type": "markdown",
   "metadata": {},
   "source": [
    "## Save and register the model"
   ]
  },
  {
   "cell_type": "markdown",
   "metadata": {},
   "source": [
    "Once you've trained the model, you can save and register it to your workspace. Model registration lets you store and version your models in your workspace to simplify model management and deployment."
   ]
  },
  {
   "cell_type": "markdown",
   "metadata": {},
   "source": [
    "Register the model to your workspace with the following code. By specifying the parameters model_framework, model_framework_version, and resource_configuration, no-code model deployment becomes available. No-code model deployment allows you to directly deploy your model as a web service from the registered model, and the ResourceConfiguration object defines the compute resource for the web service."
   ]
  },
  {
   "cell_type": "code",
   "execution_count": null,
   "metadata": {},
   "outputs": [],
   "source": [
    "from azureml.core import Model\n",
    "from azureml.core.resource_configuration import ResourceConfiguration\n",
    "\n",
    "model = run.register_model(model_name='Lab-03-sklearn-iris', \n",
    "                           model_path='outputs/model.joblib',\n",
    "                           model_framework=Model.Framework.SCIKITLEARN,\n",
    "                           model_framework_version='0.19.1',\n",
    "                           resource_configuration=ResourceConfiguration(cpu=1, memory_in_gb=0.5))"
   ]
  },
  {
   "cell_type": "markdown",
   "metadata": {},
   "source": [
    "View the registered model:\n",
    "1. Open Azure ML Studio ((https://ml.azure.com)\n",
    "2. Click on Models and view details of the Lab-03-sklearn-iris model that you have recently registered."
   ]
  },
  {
   "cell_type": "markdown",
   "metadata": {},
   "source": [
    "### --- End ---"
   ]
  },
  {
   "cell_type": "code",
   "execution_count": 7,
   "metadata": {},
   "outputs": [
    {
     "data": {
      "text/html": [
       "<style>.container { width:80% !important; }</style>"
      ],
      "text/plain": [
       "<IPython.core.display.HTML object>"
      ]
     },
     "metadata": {},
     "output_type": "display_data"
    }
   ],
   "source": [
    "#Increase width\n",
    "from IPython.core.display import display, HTML\n",
    "display(HTML(\"<style>.container { width:80% !important; }</style>\"))"
   ]
  }
 ],
 "metadata": {
  "kernelspec": {
   "display_name": "Python 3.8.3 (amllabs)",
   "language": "python",
   "name": "amllabs"
  },
  "language_info": {
   "codemirror_mode": {
    "name": "ipython",
    "version": 3
   },
   "file_extension": ".py",
   "mimetype": "text/x-python",
   "name": "python",
   "nbconvert_exporter": "python",
   "pygments_lexer": "ipython3",
   "version": "3.8.3"
  }
 },
 "nbformat": 4,
 "nbformat_minor": 4
}
