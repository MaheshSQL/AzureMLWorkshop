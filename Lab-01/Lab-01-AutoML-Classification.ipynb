{
 "cells": [
  {
   "cell_type": "markdown",
   "metadata": {},
   "source": [
    "Licensed under the MIT License.\n",
    "# Automated ML\n",
    "Automated machine learning rapidly iterates over many combinations of algorithms and hyperparameters to help you find the best model based on a success metric of your choosing."
   ]
  },
  {
   "cell_type": "markdown",
   "metadata": {},
   "source": [
    "## Get started in Azure Machine Learning studio"
   ]
  },
  {
   "cell_type": "markdown",
   "metadata": {},
   "source": [
    "You complete the following experiment set-up and run steps via the Azure Machine Learning studio at https://ml.azure.com, a consolidated web interface that includes machine learning tools to perform data science scenarios for data science practitioners of all skill levels. The studio is not supported on Internet Explorer browsers."
   ]
  },
  {
   "cell_type": "markdown",
   "metadata": {},
   "source": [
    "1. Sign in to  https://ml.azure.com (Azure Machine Learning studio).\n",
    "\n",
    "2. Select your subscription and the workspace you created.\n"
   ]
  },
  {
   "cell_type": "markdown",
   "metadata": {},
   "source": [
    "![settings-image](.././Images/7.png \"Select a subscription and a workspace to get started\")"
   ]
  },
  {
   "cell_type": "markdown",
   "metadata": {},
   "source": [
    "3. Select Get started.\n",
    "\n",
    "4. In the left pane, select Automated ML under the Author section.\n",
    "\n",
    "Since this is your first automated ML experiment, you'll see an empty list and links to documentation.\n",
    "\n",
    "Note: CPU Training Cluster (CPU-Cluster-XX) is already provisioned for you. You can see after clicking Compute icon menu on the left. We will be using this cluster for all labs."
   ]
  },
  {
   "cell_type": "markdown",
   "metadata": {},
   "source": [
    "![get-started-Url](https://docs.microsoft.com/en-us/azure/machine-learning/media/tutorial-first-experiment-automated-ml/get-started.png \"get-started\")"
   ]
  },
  {
   "cell_type": "markdown",
   "metadata": {},
   "source": [
    "5. Select +New automated ML run."
   ]
  },
  {
   "cell_type": "markdown",
   "metadata": {},
   "source": [
    "## Create and load dataset\n",
    "\n",
    "Note: \n",
    "\n",
    "Download the datasets on computer that you are using to run the web browser\n",
    "\n",
    "Refer https://github.com/MaheshSQL/AzureMLWorkshop/blob/main/README-ComputeInstance.md#download-this-repository"
   ]
  },
  {
   "cell_type": "markdown",
   "metadata": {},
   "source": [
    "Before you configure your experiment, upload your data file to your workspace in the form of an Azure Machine Learning dataset. Doing so, allows you to ensure that your data is formatted appropriately for your experiment.\n",
    "\n",
    "1. Create a new dataset by selecting From local files from the +Create dataset drop-down.\n",
    "\n",
    "    a. On the Basic info form, give your dataset a name (e.g. Benchmarking) and provide an optional description. The automated ML interface currently only supports TabularDatasets, so the dataset type should default to Tabular. Give your dataset a unique name and provide an optional description.\n",
    "\n",
    "    b. Select Next on the bottom left\n",
    "\n",
    "    c. On the Datastore and file selection form, select the default datastore that was automatically set up during your workspace creation, workspaceblobstore (Azure Blob Storage). This is where you'll upload your data file to make it available to your workspace.\n",
    "\n",
    "    d. Select Browse.\n",
    "\n",
    "    e. Choose the bankmarketing_train.csv file on your local computer. This file available in 'C:\\Azure ML Labs\\Datasets' folder.    \n",
    "\n",
    "    f. Select Next on the bottom left, to upload it to the default container that was automatically set up during your workspace creation.\n",
    "\n",
    "    g. When the upload is complete, the Settings and preview form is pre-populated based on the file type.\n",
    "\n",
    "    h. Verify that the Settings and preview form is populated as follows and select Next."
   ]
  },
  {
   "cell_type": "markdown",
   "metadata": {},
   "source": [
    "![settings-image](.././Images/1.png \"Settings and preview\")"
   ]
  },
  {
   "cell_type": "markdown",
   "metadata": {},
   "source": [
    "   i. The Schema form allows for further configuration of your data for this experiment. For this example, select the toggle switch for the day_of_week feature, so as to not include it for this experiment. \n",
    "   <br><br> Select Next."
   ]
  },
  {
   "cell_type": "markdown",
   "metadata": {},
   "source": [
    "![schema-tab-config-Url](https://docs.microsoft.com/en-us/azure/machine-learning/media/tutorial-first-experiment-automated-ml/schema-tab-config.gif \"schema-tab-config\")"
   ]
  },
  {
   "cell_type": "markdown",
   "metadata": {},
   "source": [
    "   j. On the Confirm details form, verify the information matches what was previously populated on the Basic info, Datastore and file selection and Settings and preview forms.\n",
    "\n",
    "   k. Select Create to complete the creation of your dataset.\n",
    "\n",
    "   l. Select your dataset once it appears in the list.\n",
    "\n",
    "   m. Review the Data preview to ensure you didn't include day_of_week then, select OK.\n",
    "\n",
    "   n. Select Next."
   ]
  },
  {
   "cell_type": "markdown",
   "metadata": {},
   "source": [
    "## Configure experiment run"
   ]
  },
  {
   "cell_type": "markdown",
   "metadata": {},
   "source": [
    "After you load and configure your data, you can set up your experiment. This setup includes experiment design tasks such as, selecting the size of your compute environment and specifying what column you want to predict."
   ]
  },
  {
   "cell_type": "markdown",
   "metadata": {},
   "source": [
    "1. Populate the Configure Run form as follows:\n",
    "\n",
    "    a. Enter this experiment name: Lab-01-AutoML\n",
    "\n",
    "    b. Select y as the target column, what you want to predict. This column indicates whether the client subscribed to a term deposit or not.\n",
    "\n",
    "    c. Select existing compute target (CPU-Cluster-XX). A compute target is a local or cloud-based resource environment used to run your training script or host your service deployment. For this experiment, we use a cloud-based compute.\n",
    "    \n",
    "    d. Select Next."
   ]
  },
  {
   "cell_type": "markdown",
   "metadata": {},
   "source": [
    "2. On the Task type and settings form, complete the setup for your automated ML experiment by specifying the machine learning task type and configuration settings.\n",
    "\n",
    "    a. Select Classification as the machine learning task type.\n",
    "\n",
    "    b. Select View additional configuration settings and populate the fields as follows. These settings are to better control the training job. Otherwise, defaults are applied based on experiment selection and data."
   ]
  },
  {
   "cell_type": "markdown",
   "metadata": {},
   "source": [
    "![additional-config-image](.././Images/2.png \"Additional config\")"
   ]
  },
  {
   "cell_type": "markdown",
   "metadata": {},
   "source": [
    "3. Click Save. Select Finish to run the experiment.<br>\n",
    "The Run Detail screen opens with the Run status at the top as the experiment preparation begins."
   ]
  },
  {
   "cell_type": "markdown",
   "metadata": {},
   "source": [
    "Note:\n",
    "Preparation takes 10-15 minutes to prepare the experiment run. Once running, it takes 2-3 minutes more for each iteration.\n",
    "Select Refresh periodically to see the status of the run as the experiment progresses."
   ]
  },
  {
   "cell_type": "markdown",
   "metadata": {},
   "source": [
    "## Explore runs"
   ]
  },
  {
   "cell_type": "markdown",
   "metadata": {},
   "source": [
    "Once experiment starts running, multiple parallel runs are submitted to the cluster. <br>\n",
    "You can view these runs by Clicking on Experiments icon on the left, click 'Lab-01-AutoML' experiment, toggle 'include child runs' slider"
   ]
  },
  {
   "cell_type": "markdown",
   "metadata": {},
   "source": [
    "![explore-runs-image](.././Images/8.png \"Explore runs\")"
   ]
  },
  {
   "cell_type": "markdown",
   "metadata": {},
   "source": [
    "## Explore models"
   ]
  },
  {
   "cell_type": "markdown",
   "metadata": {},
   "source": [
    "Navigate to the Models tab to see the algorithms (models) tested. By default, the models are ordered by metric score as they complete. For this tutorial, the model that scores the highest based on the chosen AUC_weighted metric is at the top of the list.\n",
    "\n",
    "While you wait for all of the experiment models to finish, select the Algorithm name of a completed model to explore its performance details.\n",
    "\n",
    "The following navigates through the Details and the Metrics tabs to view the selected model's properties, metrics, and performance charts.\n",
    "\n",
    "View confusion matrix."
   ]
  },
  {
   "cell_type": "markdown",
   "metadata": {},
   "source": [
    "![run-detail-Url](https://docs.microsoft.com/en-us/azure/machine-learning/media/tutorial-first-experiment-automated-ml/run-detail.gif \"run-detail\")"
   ]
  },
  {
   "cell_type": "markdown",
   "metadata": {},
   "source": [
    "### --- End ---"
   ]
  },
  {
   "cell_type": "code",
   "execution_count": null,
   "metadata": {},
   "outputs": [],
   "source": [
    "# import azureml.core\n",
    "# print(azureml.core.VERSION)"
   ]
  },
  {
   "cell_type": "code",
   "execution_count": 10,
   "metadata": {},
   "outputs": [
    {
     "data": {
      "text/html": [
       "<style>.container { width:80% !important; }</style>"
      ],
      "text/plain": [
       "<IPython.core.display.HTML object>"
      ]
     },
     "metadata": {},
     "output_type": "display_data"
    }
   ],
   "source": [
    "#Increase width\n",
    "from IPython.core.display import display, HTML\n",
    "display(HTML(\"<style>.container { width:80% !important; }</style>\"))"
   ]
  }
 ],
 "metadata": {
  "kernelspec": {
   "display_name": "Python 3.8.3 (amllabs)",
   "language": "python",
   "name": "amllabs"
  },
  "language_info": {
   "codemirror_mode": {
    "name": "ipython",
    "version": 3
   },
   "file_extension": ".py",
   "mimetype": "text/x-python",
   "name": "python",
   "nbconvert_exporter": "python",
   "pygments_lexer": "ipython3",
   "version": "3.8.3"
  }
 },
 "nbformat": 4,
 "nbformat_minor": 4
}
