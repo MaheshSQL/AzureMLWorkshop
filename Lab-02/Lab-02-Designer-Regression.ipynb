{
 "cells": [
  {
   "cell_type": "markdown",
   "metadata": {},
   "source": [
    "Licensed under the MIT License.\n",
    "# Predict automobile price with the designer"
   ]
  },
  {
   "cell_type": "markdown",
   "metadata": {},
   "source": [
    "Azure Machine Learning pipelines organize multiple machine learning and data processing steps into a single resource. Pipelines let you organize, manage, and reuse complex machine learning workflows across projects and users.\n",
    "\n",
    "You will learn how to:\n",
    "\n",
    "- Create a new pipeline.\n",
    "- Import data.\n",
    "- Prepare data.\n",
    "- Train a machine learning model.\n",
    "- Evaluate a machine learning model."
   ]
  },
  {
   "cell_type": "markdown",
   "metadata": {},
   "source": [
    "Sign in to https://ml.azure.com and select the workspace you want to work with."
   ]
  },
  {
   "cell_type": "markdown",
   "metadata": {},
   "source": [
    "## Create and load dataset\n",
    "\n",
    "Note: \n",
    "\n",
    "Download the datasets on computer that you are using to run the web browser\n",
    "\n",
    "Datasets are available at https://github.com/MaheshSQL/AzureMLWorkshop -> Datasets\n",
    "\n",
    "    Click the filename -> Raw -> Save as (Right click)\n",
    "\n",
    "This is required only when using Compute Instance."
   ]
  },
  {
   "cell_type": "markdown",
   "metadata": {},
   "source": [
    "Before you configure your experiment, upload your data file to your workspace in the form of an Azure Machine Learning dataset. Doing so, allows you to ensure that your data is formatted appropriately for your experiment.\n",
    "\n",
    "1. Create a new dataset by selecting Datasets -> Create dataset -> From local files\n",
    "\n",
    "    a. On the Basic info form, give your dataset a name (e.g. Automobile price data) and provide an optional description. The automated ML interface currently only supports TabularDatasets, so the dataset type should default to Tabular. Give your dataset a unique name and provide an optional description.\n",
    "\n",
    "    b. Select Next on the bottom left\n",
    "\n",
    "    c. On the Datastore and file selection form, select the default datastore that was automatically set up during your workspace creation, workspaceblobstore (Azure Blob Storage). This is where you'll upload your data file to make it available to your workspace.\n",
    "\n",
    "    d. Select Browse.\n",
    "\n",
    "    e. Choose the automobile_price file on your local computer. This file available in 'C:\\Azure ML Labs\\Datasets' folder.    \n",
    "\n",
    "    f. Select Next on the bottom left, to upload it to the default container that was automatically set up during your workspace creation.\n",
    "\n",
    "    g. When the upload is complete, the Settings and preview form is pre-populated based on the file type.\n",
    "\n",
    "    h. Verify that the Settings and preview form is populated as follows and select Next."
   ]
  },
  {
   "cell_type": "markdown",
   "metadata": {},
   "source": [
    "![settings-image](.\\.\\Images\\1.png \"Settings and preview\")"
   ]
  },
  {
   "cell_type": "markdown",
   "metadata": {},
   "source": [
    "   i. Select Next.\n",
    "   \n",
    "   j. Ensure that Type for price column is Decimal."
   ]
  },
  {
   "cell_type": "markdown",
   "metadata": {},
   "source": [
    "![schema-image](.\\.\\Images\\13.png \"Schema\")"
   ]
  },
  {
   "cell_type": "markdown",
   "metadata": {},
   "source": [
    "\n",
    "k. Select Create to complete the creation of your dataset.\n",
    "\n",
    "  "
   ]
  },
  {
   "cell_type": "markdown",
   "metadata": {},
   "source": [
    "## Create the pipeline"
   ]
  },
  {
   "cell_type": "markdown",
   "metadata": {},
   "source": [
    "\n",
    "\n",
    "1. Select Designer and click on + icon to create a new pipeline"
   ]
  },
  {
   "cell_type": "markdown",
   "metadata": {},
   "source": [
    "![launch-designer-Url](https://docs.microsoft.com/en-us/azure/machine-learning/media/tutorial-designer-automobile-price-train-score/launch-designer.png \"launch-designer\")"
   ]
  },
  {
   "cell_type": "markdown",
   "metadata": {},
   "source": [
    "2. Select Easy-to-use prebuilt modules.\n",
    "\n",
    "3. At the top of the canvas, select the default pipeline name Pipeline-Created-on-XX-XX-XXXX. Rename it to Lab-02-Pipeline. The name doesn't need to be unique."
   ]
  },
  {
   "cell_type": "markdown",
   "metadata": {},
   "source": [
    "## Set the default compute target"
   ]
  },
  {
   "cell_type": "markdown",
   "metadata": {},
   "source": [
    "A pipeline runs on a compute target, which is a compute resource that's attached to your workspace.\n",
    "\n",
    "You can set a Default compute target for the entire pipeline, which will tell every module to use the same compute target by default. However, you can specify compute targets on a per-module basis.\n",
    "\n",
    "1. Next to the pipeline name, select the Gear icon Screenshot of the gear icon at the top of the canvas to open the Settings pane.\n",
    "\n",
    "2. In the Settings pane to the right of the canvas, select Select compute target.\n",
    "\n"
   ]
  },
  {
   "cell_type": "markdown",
   "metadata": {},
   "source": [
    "![select-compute-image](.\\.\\Images\\9.png \"Select Compute for Pipeline\")"
   ]
  },
  {
   "cell_type": "markdown",
   "metadata": {},
   "source": [
    "3. Select Save.\n",
    "\n",
    "(If you already have an available compute target, you can select it to run this pipeline as shown above)"
   ]
  },
  {
   "cell_type": "markdown",
   "metadata": {},
   "source": [
    "## Import data"
   ]
  },
  {
   "cell_type": "markdown",
   "metadata": {},
   "source": [
    "There are several sample datasets included in the designer for you to experiment with. For this tutorial, use <i>Automobile price data</i> dataset we created in step before.\n",
    "\n",
    "1. To the left of the pipeline canvas is a palette of datasets and modules. Select Datasets to view the registered datasets.\n",
    "<br><br>\n",
    "2. Select the dataset Automobile price data that you have created just now, and drag it onto the canvas."
   ]
  },
  {
   "cell_type": "markdown",
   "metadata": {},
   "source": [
    "![select-dataset-image](.\\.\\Images\\12.png \"Select dataset\")"
   ]
  },
  {
   "cell_type": "markdown",
   "metadata": {},
   "source": [
    "## Visualize the data"
   ]
  },
  {
   "cell_type": "markdown",
   "metadata": {},
   "source": [
    "You can visualize the data to understand the dataset that you'll use.\n",
    "\n",
    "1. Right-click the Automobile price data and select Visualize -> Data output\n",
    "\n",
    "2. Select the different columns in the data window to view information about each one.\n",
    "\n",
    "Each row represents an automobile, and the variables associated with each automobile appear as columns. There are 205 rows and 26 columns in this dataset."
   ]
  },
  {
   "cell_type": "markdown",
   "metadata": {},
   "source": [
    "![visualise-data-image](.\\.\\Images\\10.png \"Visualise Data\")"
   ]
  },
  {
   "cell_type": "markdown",
   "metadata": {},
   "source": [
    "Click Close once you have completed the data exploration."
   ]
  },
  {
   "cell_type": "markdown",
   "metadata": {},
   "source": [
    "## Prepare data"
   ]
  },
  {
   "cell_type": "markdown",
   "metadata": {},
   "source": [
    "Datasets typically require some preprocessing before analysis. You might have noticed some missing values when you inspected the dataset. These missing values must be cleaned so that the model can analyze the data correctly."
   ]
  },
  {
   "cell_type": "markdown",
   "metadata": {},
   "source": [
    "### Remove a column"
   ]
  },
  {
   "cell_type": "markdown",
   "metadata": {},
   "source": [
    "When you train a model, you have to do something about the data that's missing. In this dataset, the normalized-losses column is missing many values, so you will exclude that column from the model altogether.\n",
    "\n",
    "1. In the module palette to the left of the canvas, expand the Data Transformation section and find the Select Columns in Dataset module.\n",
    "\n",
    "2. Drag the Select Columns in Dataset module onto the canvas. Drop the module below the dataset module.\n",
    "\n",
    "3. Connect the Automobile price data (Raw) dataset to the Select Columns in Dataset module. Drag from the dataset's output port, which is the small circle at the bottom of the dataset on the canvas, to the input port of Select Columns in Dataset, which is the small circle at the top of the module.\n",
    "\n",
    "Tip: You create a flow of data through your pipeline when you connect the output port of one module to an input port of another."
   ]
  },
  {
   "cell_type": "markdown",
   "metadata": {},
   "source": [
    "![connect-modules-Url](https://docs.microsoft.com/en-us/azure/machine-learning/media/tutorial-designer-automobile-price-train-score/connect-modules.gif \"connect-modules\")"
   ]
  },
  {
   "cell_type": "markdown",
   "metadata": {},
   "source": [
    "4. Select the Select Columns in Dataset module.\n",
    "\n",
    "5. In the module details pane to the right of the canvas, select Edit column.\n",
    "\n",
    "6. Expand the Column names drop down next to Include, and select 'All columns'.\n",
    "\n",
    "7. Select the + to add a new rule.\n",
    "\n",
    "8. From the drop-down menus, select 'Exclude' and 'Column names'.\n",
    "\n",
    "9. Enter normalized-losses in the text box.\n",
    "\n"
   ]
  },
  {
   "cell_type": "markdown",
   "metadata": {},
   "source": [
    "![exclude-column-Url](https://docs.microsoft.com/en-us/azure/machine-learning/media/tutorial-designer-automobile-price-train-score/exclude-column.png \"exclude-column\")"
   ]
  },
  {
   "cell_type": "markdown",
   "metadata": {},
   "source": [
    "10. In the lower right, select Save to close the column selector.\n",
    "\n",
    "11. Select the Select Columns in Dataset module.\n",
    "\n",
    "12. In the module details pane to the right of the canvas, select the 'Comment' text box and enter <i>Exclude normalized losses</i>\n",
    "\n",
    "Comments will appear on the graph to help you organize your pipeline."
   ]
  },
  {
   "cell_type": "markdown",
   "metadata": {},
   "source": [
    "### Clean missing data"
   ]
  },
  {
   "cell_type": "markdown",
   "metadata": {},
   "source": [
    "Your dataset still has missing values after you remove the normalized-losses column. You can remove the remaining missing data by using the Clean Missing Data module.\n",
    "\n",
    "Tip: Cleaning the missing values from input data is a prerequisite for using most of the modules in the designer.\n",
    "\n",
    "1. In the module palette to the left of the canvas, expand the section Data Transformation, and find the 'Clean Missing Data' module.\n",
    "\n",
    "2. Drag the Clean Missing Data module to the pipeline canvas. Connect it to the Select Columns in Dataset module.\n",
    "\n",
    "3. Select the Clean Missing Data module.\n",
    "\n",
    "4. In the module details pane to the right of the canvas, select Edit Column.\n",
    "\n",
    "5. In the Columns to be cleaned window that appears, expand the drop-down menu next to Include. Select, 'All columns'\n",
    "\n",
    "6. Select Save\n",
    "\n",
    "7. In the module details pane to the right of the canvas, select 'Remove entire row' under 'Cleaning mode'.\n",
    "\n",
    "8. In the module details pane to the right of the canvas, select the Comment box, and enter <i>Remove missing value rows</i>\n",
    "\n",
    "Your pipeline should now look something like this:"
   ]
  },
  {
   "cell_type": "markdown",
   "metadata": {},
   "source": [
    "![pipeline-clean-Url](https://docs.microsoft.com/en-us/azure/machine-learning/media/tutorial-designer-automobile-price-train-score/pipeline-clean.png \"pipeline-clean\")"
   ]
  },
  {
   "cell_type": "markdown",
   "metadata": {},
   "source": [
    "### Train a machine learning model"
   ]
  },
  {
   "cell_type": "markdown",
   "metadata": {},
   "source": [
    "Now that you have the modules in place to process the data, you can set up the training modules.\n",
    "\n",
    "Because you want to predict price, which is a number, you can use a regression algorithm. For this example, you use a linear regression model."
   ]
  },
  {
   "cell_type": "markdown",
   "metadata": {},
   "source": [
    "#### Split the data"
   ]
  },
  {
   "cell_type": "markdown",
   "metadata": {},
   "source": [
    "Splitting data is a common task in machine learning. You will split your data into two separate datasets. One dataset will train the model and the other will test how well the model performed.\n",
    "\n",
    "1. In the module palette, expand the section Data Transformation and find the 'Split Data' module.\n",
    "\n",
    "2. Drag the Split Data module to the pipeline canvas.\n",
    "\n",
    "3. Connect the <i>left</i> port of the Clean Missing Data module to the Split Data module.\n",
    "\n",
    "Important: Be sure that the left output ports of Clean Missing Data connects to Split Data. The left port contains the the cleaned data. The right port contains the discarded data.\n",
    "\n",
    "4. Select the Split Data module.\n",
    "\n",
    "5. In the module details pane to the right of the canvas, set the Fraction of rows in the first output dataset to 0.7.\n",
    "\n",
    "This option splits 70 percent of the data to train the model and 30 percent for testing it. The 70 percent dataset will be accessible through the left output port. The remaining data will be available through the right output port.\n",
    "\n",
    "6. In the module details pane to the right of the canvas, select the Comment box, and enter <i>Split the dataset into training set (0.7) and test set (0.3)</i>"
   ]
  },
  {
   "cell_type": "markdown",
   "metadata": {},
   "source": [
    "#### Train the model"
   ]
  },
  {
   "cell_type": "markdown",
   "metadata": {},
   "source": [
    "Train the model by giving it a dataset that includes the price. The algorithm constructs a model that explains the relationship between the features and the price as presented by the training data.\n",
    "\n",
    "1. In the module palette, expand Machine Learning Algorithms.\n",
    "\n",
    "This option displays several categories of modules that you can use to initialize learning algorithms.\n",
    "\n",
    "2. Select Regression > Linear Regression, and drag it to the pipeline canvas.\n",
    "\n",
    "3. In the module palette, expand the section Module training, and drag the Train Model module to the canvas.\n",
    "\n",
    "4. Connect the output of the Linear Regression module to the left input of the Train Model module.\n",
    "\n",
    "5. Connect the training data output (left port) of the Split Data module to the right input of the Train Model module. (See screenshot below)\n",
    "\n",
    "Important: Be sure that the left output ports of Split Data connects to Train Model. The left port contains the the training set. The right port contains the test set."
   ]
  },
  {
   "cell_type": "markdown",
   "metadata": {},
   "source": [
    "![pipeline-train-model-Url](https://docs.microsoft.com/en-us/azure/machine-learning/media/tutorial-designer-automobile-price-train-score/pipeline-train-model.png \"pipeline-train-model\")"
   ]
  },
  {
   "cell_type": "markdown",
   "metadata": {},
   "source": [
    "6. Select the Train Model module.\n",
    "\n",
    "7. In the module details pane to the right of the canvas, select Edit column selector.\n",
    "\n",
    "8. In the Label column dialog box, expand the drop-down menu and select 'Column names'.\n",
    "\n",
    "9. In the text box, select 'price' to specify the value that your model is going to predict.\n",
    "\n",
    "10. Click Save\n",
    "\n",
    "Important: Make sure you enter the column name exactly. Do not capitalize price.\n",
    "\n"
   ]
  },
  {
   "cell_type": "markdown",
   "metadata": {},
   "source": [
    "![label-colum-image](.\\.\\Images\\11.png \"Label Column\")"
   ]
  },
  {
   "cell_type": "markdown",
   "metadata": {},
   "source": [
    "Your pipeline should look like this:"
   ]
  },
  {
   "cell_type": "markdown",
   "metadata": {},
   "source": [
    "![pipeline-train-graph-Url](https://docs.microsoft.com/en-us/azure/machine-learning/media/tutorial-designer-automobile-price-train-score/pipeline-train-graph.png \"pipeline-train-graph\")"
   ]
  },
  {
   "cell_type": "markdown",
   "metadata": {},
   "source": [
    "#### Add the Score Model module"
   ]
  },
  {
   "cell_type": "markdown",
   "metadata": {},
   "source": [
    "After you train your model by using 70 percent of the data, you can use it to score the other 30 percent to see how well your model functions.\n",
    "\n",
    "Enter score model in the search box to find the 'Score Model' module. Drag the module to the pipeline canvas.\n",
    "\n",
    "Connect the output of the Train Model module to the left input port of Score Model. \n",
    "\n",
    "Connect the test data output (right port) of the Split Data module to the right input port of Score Model."
   ]
  },
  {
   "cell_type": "markdown",
   "metadata": {},
   "source": [
    "#### Add the Evaluate Model module"
   ]
  },
  {
   "cell_type": "markdown",
   "metadata": {},
   "source": [
    "Use the Evaluate Model module to evaluate how well your model scored the test dataset.\n",
    "\n",
    "1. Enter evaluate in the search box to find the Evaluate Model module. Drag the module to the pipeline canvas.\n",
    "\n",
    "2. Connect the output of the Score Model module to the left input of Evaluate Model.\n",
    "\n",
    "The final pipeline should look something like this:"
   ]
  },
  {
   "cell_type": "markdown",
   "metadata": {},
   "source": [
    "![pipeline-final-graph-Url](https://docs.microsoft.com/en-us/azure/machine-learning/media/tutorial-designer-automobile-price-train-score/pipeline-final-graph.png \"pipeline-final-graph\")"
   ]
  },
  {
   "cell_type": "markdown",
   "metadata": {},
   "source": [
    "#### Submit the pipeline"
   ]
  },
  {
   "cell_type": "markdown",
   "metadata": {},
   "source": [
    "Now that your pipeline is all setup, you can submit a pipeline run to train your machine learning model. You can submit a valid pipeline run at any point, which can be used to review changes to your pipeline during development.\n",
    "\n",
    "1. At the top of the canvas, select Submit.\n",
    "\n",
    "2. In the Set up pipeline run dialog box, select 'Create new' experiment.\n",
    "\n",
    "    Note: Experiments group similar pipeline runs together. If you run a pipeline multiple times, you can select the same experiment for successive runs.\n",
    "\n",
    "    a. Enter a Lab-02-Regression as the New experiment Name.\n",
    "\n",
    "    b. Select Submit.\n",
    "\n",
    "You can view run status and details at the top right of the canvas.\n",
    "\n",
    "If is the first run, it may take up to 20 minutes for your pipeline to finish running. The default compute settings have a minimum node size of 0, which means that the designer must allocate resources after being idle. Repeated pipeline runs will take less time since the compute resources are already allocated. Additionally, the designer uses cached results for each module to further improve efficiency."
   ]
  },
  {
   "cell_type": "markdown",
   "metadata": {},
   "source": [
    "#### View scored labels"
   ]
  },
  {
   "cell_type": "markdown",
   "metadata": {},
   "source": [
    "After the run completes, you can view the results of the pipeline run. First, look at the predictions generated by the regression model.\n",
    "\n",
    "1. Right click the Score Model module, and select Visualize to view its output.\n",
    "\n",
    "Here you can see the predicted prices and the actual prices from the testing data."
   ]
  },
  {
   "cell_type": "markdown",
   "metadata": {},
   "source": [
    "![score-result-Url](https://docs.microsoft.com/en-us/azure/machine-learning/media/tutorial-designer-automobile-price-train-score/score-result.png \"score-result\")"
   ]
  },
  {
   "cell_type": "markdown",
   "metadata": {},
   "source": [
    "#### Evaluate models"
   ]
  },
  {
   "cell_type": "markdown",
   "metadata": {},
   "source": [
    "Use the Evaluate Model to see how well the trained model performed on the test dataset.\n",
    "\n",
    "1. Right-click the Evaluate Model module and select Visualize to view its output.\n",
    "\n",
    "The following statistics are shown for your model:\n",
    "\n",
    "- Mean Absolute Error (MAE): The average of absolute errors. An error is the difference between the predicted value and the actual value.\n",
    "\n",
    "- Root Mean Squared Error (RMSE): The square root of the average of squared errors of predictions made on the test dataset.\n",
    "\n",
    "- Relative Absolute Error: The average of absolute errors relative to the absolute difference between actual values and the average of all actual values.\n",
    "\n",
    "- Relative Squared Error: The average of squared errors relative to the squared difference between the actual values and the average of all actual values.\n",
    "\n",
    "- Coefficient of Determination: Also known as the R squared value, this statistical metric indicates how well a model fits the data.\n",
    "\n",
    "\n",
    "For each of the error statistics, smaller is better. A smaller value indicates that the predictions are closer to the actual values. For the coefficient of determination, the closer its value is to one (1.0), the better the predictions."
   ]
  },
  {
   "cell_type": "markdown",
   "metadata": {},
   "source": [
    "![evaluate-image](.\\.\\Images\\14.png \"Evaluate\")"
   ]
  },
  {
   "cell_type": "markdown",
   "metadata": {},
   "source": [
    "### --- End ---"
   ]
  },
  {
   "cell_type": "code",
   "execution_count": 7,
   "metadata": {},
   "outputs": [
    {
     "data": {
      "text/html": [
       "<style>.container { width:80% !important; }</style>"
      ],
      "text/plain": [
       "<IPython.core.display.HTML object>"
      ]
     },
     "metadata": {},
     "output_type": "display_data"
    }
   ],
   "source": [
    "#Increase width\n",
    "from IPython.core.display import display, HTML\n",
    "display(HTML(\"<style>.container { width:80% !important; }</style>\"))"
   ]
  }
 ],
 "metadata": {
  "kernelspec": {
   "display_name": "Python 3.8.3 (amllabs)",
   "language": "python",
   "name": "amllabs"
  },
  "language_info": {
   "codemirror_mode": {
    "name": "ipython",
    "version": 3
   },
   "file_extension": ".py",
   "mimetype": "text/x-python",
   "name": "python",
   "nbconvert_exporter": "python",
   "pygments_lexer": "ipython3",
   "version": "3.8.3"
  }
 },
 "nbformat": 4,
 "nbformat_minor": 4
}
