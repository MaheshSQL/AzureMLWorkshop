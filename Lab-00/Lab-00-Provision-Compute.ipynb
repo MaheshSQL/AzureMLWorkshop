{
 "cells": [
  {
   "cell_type": "markdown",
   "metadata": {},
   "source": [
    "Licensed under the MIT License.\n",
    "# Provision Compute\n",
    "Create compute resources within Azure Machine Workspace required for development and training of models.\n",
    "\n",
    "Clone the labs from Github repository on to the provisioned Compute Instance."
   ]
  },
  {
   "cell_type": "markdown",
   "metadata": {},
   "source": [
    "## Create Compute Instance"
   ]
  },
  {
   "cell_type": "markdown",
   "metadata": {},
   "source": [
    "An Azure Machine Learning compute instance is a managed cloud-based workstation for data scientists.\n",
    "\n",
    "Compute instances make it easy to get started with Azure Machine Learning development as well as provide management and enterprise readiness capabilities for IT administrators.\n",
    "\n",
    "Use a compute instance as your fully configured and managed development environment in the cloud for machine learning. "
   ]
  },
  {
   "cell_type": "markdown",
   "metadata": {},
   "source": [
    "1. Sign in to  https://ml.azure.com (Azure Machine Learning studio).\n",
    "\n",
    "\n",
    "2. Select your subscription and the workspace you created.\n"
   ]
  },
  {
   "cell_type": "markdown",
   "metadata": {},
   "source": [
    "![settings-image](.\\.\\Images\\7.png \"Select a subscription and a workspace to get started\")"
   ]
  },
  {
   "cell_type": "markdown",
   "metadata": {},
   "source": [
    "![settings-image](././Images/7.png \"Select a subscription and a workspace to get started\")"
   ]
  },
  {
   "cell_type": "markdown",
   "metadata": {},
   "source": [
    "3. Click 'Compute' from let menu and click 'Compute instances' tab.\n",
    "\n",
    "\n",
    "4. Click 'New'"
   ]
  },
  {
   "cell_type": "markdown",
   "metadata": {},
   "source": [
    "![settings-image](.\\.\\Images\\16.png \"Settings and preview\")"
   ]
  },
  {
   "cell_type": "markdown",
   "metadata": {},
   "source": [
    "5. Make below selections\n",
    "    - Virtual machine type: CPU\n",
    "    - Virtual machine size: Select from all options\n",
    "    - Type ' STANDARD_DS2_V2' in the 'Search by VM name...' box (Any 2 Core CPU VM should be good enough for the labs)\n",
    "    \n",
    "\n",
    "6. Select 'Next'\n",
    "\n",
    "\n",
    "7. Type 'Compute name' (Compute name needs to be unique across all existing computes within an Azure region). \n",
    "\n",
    "\n",
    "    e.g. computeinstance299\n",
    "\n",
    "\n",
    "8. Click 'Create'.\n"
   ]
  },
  {
   "cell_type": "markdown",
   "metadata": {},
   "source": [
    "<b>Note:</b> \n",
    "\n",
    "Please ensure you stop the Compute Instance after the workshop to avoid incurring costs.\n",
    "\n",
    "To stop a compute instance, select the compute instance and click Stop."
   ]
  },
  {
   "cell_type": "markdown",
   "metadata": {},
   "source": [
    "### Create Compute Cluster"
   ]
  },
  {
   "cell_type": "markdown",
   "metadata": {},
   "source": [
    "1. Click 'Compute' from let menu and click 'Compute clusters' tab.\n",
    "\n",
    "\n",
    "2. Click 'Create'"
   ]
  },
  {
   "cell_type": "markdown",
   "metadata": {},
   "source": [
    "![settings-image](.\\.\\Images\\17.png \"Settings and preview\")"
   ]
  },
  {
   "cell_type": "markdown",
   "metadata": {},
   "source": [
    "3. Make below selections\n",
    "    - Virtual machine priority: Dedicated\n",
    "    - Virtual machine type: CPU\n",
    "    - Virtual machine size: Select from all options\n",
    "    - Type ' STANDARD_DS2_V2' in the 'Search by VM name...' box (Any 2 Core CPU VM should be good enough for the labs)\n",
    "    \n",
    "    \n",
    "4. Click 'Next'\n",
    "\n",
    "\n",
    "5. Type 'Compute name' e.g. CPUCluster001\n",
    "\n",
    "\n",
    "6. Important: Ensure below settings selected before clicking create.\n",
    "\n",
    "\n",
    "    -Minimum number of nodes: 0\n",
    "    -Maximum number of nodes: 1\n",
    "    -Idle seconds before scale down (Seconds): 120\n",
    "    \n",
    "    \n",
    "7. Click 'Create'"
   ]
  },
  {
   "cell_type": "markdown",
   "metadata": {},
   "source": [
    "It will take 5-10 minutes for Compute to be created."
   ]
  },
  {
   "cell_type": "markdown",
   "metadata": {},
   "source": [
    "### Clone Github repository containing labs on to Compute Instance"
   ]
  },
  {
   "cell_type": "markdown",
   "metadata": {},
   "source": [
    "1. Once you see Compute Instance you created in steps above showing 'Running' status under Compute perform below steps.\n",
    "\n",
    "\n",
    "2. Click Notebooks from left hand side menu.\n",
    "\n",
    "\n",
    "3. Click Open 'Terminal'."
   ]
  },
  {
   "cell_type": "markdown",
   "metadata": {},
   "source": [
    "![settings-image](.\\.\\Images\\18.png \"Settings and preview\")"
   ]
  },
  {
   "cell_type": "markdown",
   "metadata": {},
   "source": [
    "4. Type/copy-paste below line on to the Terminal window\n",
    "\n",
    "\n",
    "    git clone \"https://github.com/MaheshSQL/AzureMLWorkshop.git\"\n",
    "\n",
    "5. Check and confirm you are able to see the cloned repo from JupyterLab\n",
    "    - Click Compute and select Compute instances tab\n",
    "    - Click JupyterLab\n",
    "    - This should launch JupyterLab a new browser tab\n",
    "    - Navigate to the path where you cloned the Github repo\n",
    "    - You can open the lab by clicking Lab-01-AutoML-Classification.ipynb notebook"
   ]
  },
  {
   "cell_type": "markdown",
   "metadata": {},
   "source": [
    "### --- End ---"
   ]
  },
  {
   "cell_type": "code",
   "execution_count": null,
   "metadata": {},
   "outputs": [],
   "source": [
    "# import azureml.core\n",
    "# print(azureml.core.VERSION)"
   ]
  },
  {
   "cell_type": "code",
   "execution_count": 10,
   "metadata": {},
   "outputs": [
    {
     "data": {
      "text/html": [
       "<style>.container { width:80% !important; }</style>"
      ],
      "text/plain": [
       "<IPython.core.display.HTML object>"
      ]
     },
     "metadata": {},
     "output_type": "display_data"
    }
   ],
   "source": [
    "#Increase width\n",
    "from IPython.core.display import display, HTML\n",
    "display(HTML(\"<style>.container { width:80% !important; }</style>\"))"
   ]
  }
 ],
 "metadata": {
  "kernelspec": {
   "display_name": "Python 3.8.3 (amllabs)",
   "language": "python",
   "name": "amllabs"
  },
  "language_info": {
   "codemirror_mode": {
    "name": "ipython",
    "version": 3
   },
   "file_extension": ".py",
   "mimetype": "text/x-python",
   "name": "python",
   "nbconvert_exporter": "python",
   "pygments_lexer": "ipython3",
   "version": "3.8.3"
  }
 },
 "nbformat": 4,
 "nbformat_minor": 4
}
